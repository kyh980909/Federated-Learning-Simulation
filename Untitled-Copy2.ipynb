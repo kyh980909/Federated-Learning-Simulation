{
 "cells": [
  {
   "cell_type": "markdown",
   "id": "parliamentary-contest",
   "metadata": {},
   "source": [
    "# 1. MNIST 데이터셋 가져오기"
   ]
  },
  {
   "cell_type": "code",
   "execution_count": 1,
   "id": "persistent-sacrifice",
   "metadata": {},
   "outputs": [],
   "source": [
    "import tensorflow as tf\n",
    "import matplotlib.pyplot as plt\n",
    "from tensorflow.keras import datasets, layers, models, losses\n",
    "import numpy as np\n",
    "import matplotlib.pyplot as plt"
   ]
  },
  {
   "cell_type": "code",
   "execution_count": 2,
   "id": "assumed-wedding",
   "metadata": {},
   "outputs": [
    {
     "data": {
      "text/plain": [
       "(60000, 28, 28)"
      ]
     },
     "execution_count": 2,
     "metadata": {},
     "output_type": "execute_result"
    }
   ],
   "source": [
    "(x_train,y_train),(x_test,y_test) = datasets.mnist.load_data()\n",
    "x_train.shape"
   ]
  },
  {
   "cell_type": "code",
   "execution_count": 3,
   "id": "resident-aside",
   "metadata": {},
   "outputs": [],
   "source": [
    "x_train = x_train.reshape(60000, 28, 28, 1)\n",
    "x_test = x_test.reshape(10000, 28, 28, 1)\n",
    "x_train = np.pad(x_train, ((0,0), (2,2), (2,2), (0,0)), 'constant')\n",
    "x_test = np.pad(x_test, ((0,0), (2,2), (2,2), (0,0)), 'constant')"
   ]
  },
  {
   "cell_type": "code",
   "execution_count": 4,
   "id": "loving-visibility",
   "metadata": {},
   "outputs": [],
   "source": [
    "idx = np.argsort(y_test)\n",
    "x_train_sorted = x_test[idx]\n",
    "y_train_sorted = y_test[idx]\n",
    "x_eval_dataset = x_train[29854:]\n",
    "y_eval_dataset = y_train[29854:]"
   ]
  },
  {
   "cell_type": "markdown",
   "id": "latest-assurance",
   "metadata": {},
   "source": [
    "# 2. LeNet5 모델 생성"
   ]
  },
  {
   "cell_type": "code",
   "execution_count": 5,
   "id": "minute-server",
   "metadata": {},
   "outputs": [],
   "source": [
    "# model = models.Sequential()\n",
    "# model.add(layers.Conv2D(filters=6, kernel_size=(5,5), strides=1, activation='tanh', input_shape=(32, 32, 1)))\n",
    "# model.add(layers.AveragePooling2D(pool_size=2, strides=2))\n",
    "# model.add(layers.Conv2D(filters=16, kernel_size=(5,5), strides=1, activation='tanh'))\n",
    "# model.add(layers.AveragePooling2D(pool_size=2, strides=2))\n",
    "# model.add(layers.Flatten())\n",
    "# model.add(layers.Dense(120, activation='tanh'))\n",
    "# model.add(layers.Dense(84, activation='tanh'))\n",
    "# model.add(layers.Dense(10, activation='softmax'))\n",
    "# model.summary()\n",
    "\n",
    "# # model_list = []\n",
    "# # for _ in range(10):\n",
    "# #     model_list.append(copy(model))"
   ]
  },
  {
   "cell_type": "markdown",
   "id": "spectacular-speaking",
   "metadata": {},
   "source": [
    "# 3. MNIST Data 학습"
   ]
  },
  {
   "cell_type": "code",
   "execution_count": 6,
   "id": "greek-cooling",
   "metadata": {},
   "outputs": [],
   "source": [
    "# history = model.fit(x_train, y_train, batch_size=64, epochs=1, validation_data=(x_test, y_test))"
   ]
  },
  {
   "cell_type": "markdown",
   "id": "reflected-leave",
   "metadata": {},
   "source": [
    "# 4. 데이터 UE 별로 무작위로 나누기"
   ]
  },
  {
   "cell_type": "code",
   "execution_count": 7,
   "id": "civic-battery",
   "metadata": {},
   "outputs": [],
   "source": [
    "import random\n",
    "from collections import Counter"
   ]
  },
  {
   "cell_type": "markdown",
   "id": "capital-syntax",
   "metadata": {},
   "source": [
    "##### 1. Balanced Dataset 5개"
   ]
  },
  {
   "cell_type": "code",
   "execution_count": 8,
   "id": "certain-walker",
   "metadata": {},
   "outputs": [],
   "source": [
    "UE = []\n",
    "for _ in range(5):\n",
    "    UE.append({\"x_train\":[], \"y_train\":[]})"
   ]
  },
  {
   "cell_type": "code",
   "execution_count": 9,
   "id": "transsexual-variation",
   "metadata": {},
   "outputs": [
    {
     "name": "stdout",
     "output_type": "stream",
     "text": [
      "사용한 데이터 수 : 29854\n",
      "[5454, 7843, 8995, 5221, 2341]\n"
     ]
    }
   ],
   "source": [
    "random.seed(45)\n",
    "\n",
    "total = 0\n",
    "random_num_list = []\n",
    "for _ in range(5):\n",
    "    random_num = random.randrange(1000,12000)\n",
    "    total += random_num\n",
    "    random_num_list.append(random_num)\n",
    "\n",
    "print('사용한 데이터 수 :',total)\n",
    "print(random_num_list)\n",
    "\n",
    "start = 0\n",
    "for i in range(5):\n",
    "    if i == 0:\n",
    "        UE[i]['x_train'] = x_train[:random_num_list[i]]\n",
    "        UE[i]['y_train'] = y_train[:random_num_list[i]]       \n",
    "    else:\n",
    "        UE[i]['x_train'] = x_train[start:start+random_num_list[i]]\n",
    "        UE[i]['y_train'] = y_train[start:start+random_num_list[i]]\n",
    "    start += random_num_list[i]"
   ]
  },
  {
   "cell_type": "code",
   "execution_count": 10,
   "id": "finite-guatemala",
   "metadata": {
    "scrolled": false
   },
   "outputs": [
    {
     "name": "stdout",
     "output_type": "stream",
     "text": [
      "5454\n"
     ]
    },
    {
     "data": {
      "image/png": "[encoded data removed]",
      "text/plain": [
       "<Figure size 432x288 with 1 Axes>"
      ]
     },
     "metadata": {
      "needs_background": "light"
     },
     "output_type": "display_data"
    },
    {
     "name": "stdout",
     "output_type": "stream",
     "text": [
      "7843\n"
     ]
    },
    {
     "data": {
      "image/png": "[encoded data removed]",
      "text/plain": [
       "<Figure size 432x288 with 1 Axes>"
      ]
     },
     "metadata": {
      "needs_background": "light"
     },
     "output_type": "display_data"
    },
    {
     "name": "stdout",
     "output_type": "stream",
     "text": [
      "8995\n"
     ]
    },
    {
     "data": {
      "image/png": "[encoded data removed]",
      "text/plain": [
       "<Figure size 432x288 with 1 Axes>"
      ]
     },
     "metadata": {
      "needs_background": "light"
     },
     "output_type": "display_data"
    },
    {
     "name": "stdout",
     "output_type": "stream",
     "text": [
      "5221\n"
     ]
    },
    {
     "data": {
      "image/png": "[encoded data removed]",
      "text/plain": [
       "<Figure size 432x288 with 1 Axes>"
      ]
     },
     "metadata": {
      "needs_background": "light"
     },
     "output_type": "display_data"
    },
    {
     "name": "stdout",
     "output_type": "stream",
     "text": [
      "2341\n"
     ]
    },
    {
     "data": {
      "image/png": "[encoded data removed]",
      "text/plain": [
       "<Figure size 432x288 with 1 Axes>"
      ]
     },
     "metadata": {
      "needs_background": "light"
     },
     "output_type": "display_data"
    }
   ],
   "source": [
    "for x in range(5):\n",
    "    print(len(UE[x]['y_train']))\n",
    "    \n",
    "    temp = []\n",
    "\n",
    "    for a in Counter(UE[x]['y_train']).values():\n",
    "        temp.append(a)\n",
    "\n",
    "    bar_chart = plt.bar(np.arange(10), temp, width=0.5, bottom=2, align='edge', label='A', \n",
    "                        color='b', edgecolor='black', linewidth=1.2)\n",
    "\n",
    "    plt.title(f'UE{x+1} class distribution', pad=10)\n",
    "    plt.xlabel('UE', labelpad=10)\n",
    "    plt.ylabel('Data amount', labelpad=10)\n",
    "    plt.show()"
   ]
  },
  {
   "cell_type": "markdown",
   "id": "employed-haven",
   "metadata": {},
   "source": [
    "##### 2. Imbalanced Dataset 5개"
   ]
  },
  {
   "cell_type": "code",
   "execution_count": 11,
   "id": "experimental-masters",
   "metadata": {},
   "outputs": [],
   "source": [
    "UE.append({'x_train':x_test[y_test == 0], 'y_train':y_test[y_test == 0]}) # UE6\n",
    "\n",
    "x = x_test[y_test == 1]\n",
    "y = y_test[y_test == 1]\n",
    "x = np.append(x, x_test[y_test == 3],axis=0)\n",
    "y = np.append(y, y_test[y_test == 3],axis=0)\n",
    "\n",
    "UE.append({'x_train':x, 'y_train':y}) # UE7\n",
    "\n",
    "x = x_test[y_test == 2]\n",
    "y = y_test[y_test == 2]\n",
    "x = np.append(x, x_test[y_test == 4],axis=0)\n",
    "y = np.append(y, y_test[y_test == 4],axis=0)\n",
    "x = np.append(x, x_test[y_test == 9],axis=0)\n",
    "y = np.append(y, y_test[y_test == 9],axis=0)\n",
    "\n",
    "UE.append({'x_train':x, 'y_train':y}) # UE8\n",
    "\n",
    "x = x_test[y_test == 5]\n",
    "y = y_test[y_test == 5]\n",
    "x = np.append(x, x_test[y_test == 6],axis=0)\n",
    "y = np.append(y, y_test[y_test == 6],axis=0)\n",
    "\n",
    "UE.append({'x_train':x, 'y_train':y}) # UE9\n",
    "\n",
    "x = x_test[y_test == 8]\n",
    "y = y_test[y_test == 8]\n",
    "x = np.append(x, x_test[y_test == 7],axis=0)\n",
    "y = np.append(y, y_test[y_test == 7],axis=0)\n",
    "\n",
    "UE.append({'x_train':x, 'y_train':y}) # UE10"
   ]
  },
  {
   "cell_type": "code",
   "execution_count": 12,
   "id": "falling-waste",
   "metadata": {},
   "outputs": [
    {
     "name": "stdout",
     "output_type": "stream",
     "text": [
      "[980, 0, 0, 0, 0, 0, 0, 0, 0, 0]\n"
     ]
    },
    {
     "data": {
      "image/png": "[encoded data removed]",
      "text/plain": [
       "<Figure size 432x288 with 1 Axes>"
      ]
     },
     "metadata": {
      "needs_background": "light"
     },
     "output_type": "display_data"
    },
    {
     "name": "stdout",
     "output_type": "stream",
     "text": [
      "[0, 1135, 0, 1010, 0, 0, 0, 0, 0, 0]\n"
     ]
    },
    {
     "data": {
      "image/png": "[encoded data removed]",
      "text/plain": [
       "<Figure size 432x288 with 1 Axes>"
      ]
     },
     "metadata": {
      "needs_background": "light"
     },
     "output_type": "display_data"
    },
    {
     "name": "stdout",
     "output_type": "stream",
     "text": [
      "[0, 0, 1032, 0, 982, 0, 0, 0, 0, 1009]\n"
     ]
    },
    {
     "data": {
      "image/png": "[encoded data removed]",
      "text/plain": [
       "<Figure size 432x288 with 1 Axes>"
      ]
     },
     "metadata": {
      "needs_background": "light"
     },
     "output_type": "display_data"
    },
    {
     "name": "stdout",
     "output_type": "stream",
     "text": [
      "[0, 0, 0, 0, 0, 892, 958, 0, 0, 0]\n"
     ]
    },
    {
     "data": {
      "image/png": "[encoded data removed]",
      "text/plain": [
       "<Figure size 432x288 with 1 Axes>"
      ]
     },
     "metadata": {
      "needs_background": "light"
     },
     "output_type": "display_data"
    },
    {
     "name": "stdout",
     "output_type": "stream",
     "text": [
      "[0, 0, 0, 0, 0, 0, 0, 974, 1028, 0]\n"
     ]
    },
    {
     "data": {
      "image/png": "[encoded data removed]",
      "text/plain": [
       "<Figure size 432x288 with 1 Axes>"
      ]
     },
     "metadata": {
      "needs_background": "light"
     },
     "output_type": "display_data"
    }
   ],
   "source": [
    "for x in range(5, 10):\n",
    "    i = 0\n",
    "    temp = []\n",
    "    for a in range(10):\n",
    "        if a in list(Counter(UE[x]['y_train']).keys()):\n",
    "            temp.append(list(Counter(UE[x]['y_train']).values())[i])\n",
    "            i += 1\n",
    "        else:\n",
    "            temp.append(0)\n",
    "\n",
    "    print(temp)\n",
    "\n",
    "    bar_chart = plt.bar(np.arange(10), temp, width=0.5, bottom=2, align='edge', label='A', \n",
    "                        color='b', edgecolor='black', linewidth=1.2)\n",
    "\n",
    "    plt.title(f'UE{x+1} class distribution', pad=10)\n",
    "    plt.xlabel('UE', labelpad=10)\n",
    "    plt.ylabel('Data amount', labelpad=10)\n",
    "    plt.show()"
   ]
  },
  {
   "cell_type": "markdown",
   "id": "finnish-jason",
   "metadata": {},
   "source": [
    "# 5. 연합학습"
   ]
  },
  {
   "cell_type": "code",
   "execution_count": 13,
   "id": "delayed-commercial",
   "metadata": {},
   "outputs": [],
   "source": [
    "from sklearn.model_selection import train_test_split"
   ]
  },
  {
   "cell_type": "code",
   "execution_count": 14,
   "id": "occupational-beauty",
   "metadata": {
    "scrolled": false
   },
   "outputs": [
    {
     "name": "stdout",
     "output_type": "stream",
     "text": [
      "Model: \"sequential\"\n",
      "_________________________________________________________________\n",
      "Layer (type)                 Output Shape              Param #   \n",
      "=================================================================\n",
      "conv2d (Conv2D)              (None, 28, 28, 6)         156       \n",
      "_________________________________________________________________\n",
      "average_pooling2d (AveragePo (None, 14, 14, 6)         0         \n",
      "_________________________________________________________________\n",
      "conv2d_1 (Conv2D)            (None, 10, 10, 16)        2416      \n",
      "_________________________________________________________________\n",
      "average_pooling2d_1 (Average (None, 5, 5, 16)          0         \n",
      "_________________________________________________________________\n",
      "flatten (Flatten)            (None, 400)               0         \n",
      "_________________________________________________________________\n",
      "dense (Dense)                (None, 120)               48120     \n",
      "_________________________________________________________________\n",
      "dense_1 (Dense)              (None, 84)                10164     \n",
      "_________________________________________________________________\n",
      "dense_2 (Dense)              (None, 10)                850       \n",
      "=================================================================\n",
      "Total params: 61,706\n",
      "Trainable params: 61,706\n",
      "Non-trainable params: 0\n",
      "_________________________________________________________________\n",
      "44/44 [==============================] - 0s 7ms/step - loss: 1.9754 - accuracy: 0.3990 - val_loss: 1.6520 - val_accuracy: 0.6095\n",
      "Model: \"sequential\"\n",
      "_________________________________________________________________\n",
      "Layer (type)                 Output Shape              Param #   \n",
      "=================================================================\n",
      "conv2d (Conv2D)              (None, 28, 28, 6)         156       \n",
      "_________________________________________________________________\n",
      "average_pooling2d (AveragePo (None, 14, 14, 6)         0         \n",
      "_________________________________________________________________\n",
      "conv2d_1 (Conv2D)            (None, 10, 10, 16)        2416      \n",
      "_________________________________________________________________\n",
      "average_pooling2d_1 (Average (None, 5, 5, 16)          0         \n",
      "_________________________________________________________________\n",
      "flatten (Flatten)            (None, 400)               0         \n",
      "_________________________________________________________________\n",
      "dense (Dense)                (None, 120)               48120     \n",
      "_________________________________________________________________\n",
      "dense_1 (Dense)              (None, 84)                10164     \n",
      "_________________________________________________________________\n",
      "dense_2 (Dense)              (None, 10)                850       \n",
      "=================================================================\n",
      "Total params: 61,706\n",
      "Trainable params: 61,706\n",
      "Non-trainable params: 0\n",
      "_________________________________________________________________\n",
      "63/63 [==============================] - 0s 5ms/step - loss: 1.8954 - accuracy: 0.4270 - val_loss: 1.4907 - val_accuracy: 0.6412\n",
      "Model: \"sequential\"\n",
      "_________________________________________________________________\n",
      "Layer (type)                 Output Shape              Param #   \n",
      "=================================================================\n",
      "conv2d (Conv2D)              (None, 28, 28, 6)         156       \n",
      "_________________________________________________________________\n",
      "average_pooling2d (AveragePo (None, 14, 14, 6)         0         \n",
      "_________________________________________________________________\n",
      "conv2d_1 (Conv2D)            (None, 10, 10, 16)        2416      \n",
      "_________________________________________________________________\n",
      "average_pooling2d_1 (Average (None, 5, 5, 16)          0         \n",
      "_________________________________________________________________\n",
      "flatten (Flatten)            (None, 400)               0         \n",
      "_________________________________________________________________\n",
      "dense (Dense)                (None, 120)               48120     \n",
      "_________________________________________________________________\n",
      "dense_1 (Dense)              (None, 84)                10164     \n",
      "_________________________________________________________________\n",
      "dense_2 (Dense)              (None, 10)                850       \n",
      "=================================================================\n",
      "Total params: 61,706\n",
      "Trainable params: 61,706\n",
      "Non-trainable params: 0\n",
      "_________________________________________________________________\n",
      "72/72 [==============================] - 0s 5ms/step - loss: 1.8189 - accuracy: 0.4765 - val_loss: 1.3553 - val_accuracy: 0.7093\n",
      "Model: \"sequential\"\n",
      "_________________________________________________________________\n",
      "Layer (type)                 Output Shape              Param #   \n",
      "=================================================================\n",
      "conv2d (Conv2D)              (None, 28, 28, 6)         156       \n",
      "_________________________________________________________________\n",
      "average_pooling2d (AveragePo (None, 14, 14, 6)         0         \n",
      "_________________________________________________________________\n",
      "conv2d_1 (Conv2D)            (None, 10, 10, 16)        2416      \n",
      "_________________________________________________________________\n",
      "average_pooling2d_1 (Average (None, 5, 5, 16)          0         \n",
      "_________________________________________________________________\n",
      "flatten (Flatten)            (None, 400)               0         \n",
      "_________________________________________________________________\n",
      "dense (Dense)                (None, 120)               48120     \n",
      "_________________________________________________________________\n",
      "dense_1 (Dense)              (None, 84)                10164     \n",
      "_________________________________________________________________\n",
      "dense_2 (Dense)              (None, 10)                850       \n",
      "=================================================================\n",
      "Total params: 61,706\n",
      "Trainable params: 61,706\n",
      "Non-trainable params: 0\n",
      "_________________________________________________________________\n",
      "42/42 [==============================] - 0s 6ms/step - loss: 1.9599 - accuracy: 0.3807 - val_loss: 1.6438 - val_accuracy: 0.5866\n",
      "Model: \"sequential\"\n",
      "_________________________________________________________________\n",
      "Layer (type)                 Output Shape              Param #   \n",
      "=================================================================\n",
      "conv2d (Conv2D)              (None, 28, 28, 6)         156       \n",
      "_________________________________________________________________\n",
      "average_pooling2d (AveragePo (None, 14, 14, 6)         0         \n",
      "_________________________________________________________________\n",
      "conv2d_1 (Conv2D)            (None, 10, 10, 16)        2416      \n",
      "_________________________________________________________________\n",
      "average_pooling2d_1 (Average (None, 5, 5, 16)          0         \n",
      "_________________________________________________________________\n",
      "flatten (Flatten)            (None, 400)               0         \n",
      "_________________________________________________________________\n",
      "dense (Dense)                (None, 120)               48120     \n",
      "_________________________________________________________________\n",
      "dense_1 (Dense)              (None, 84)                10164     \n",
      "_________________________________________________________________\n",
      "dense_2 (Dense)              (None, 10)                850       \n",
      "=================================================================\n",
      "Total params: 61,706\n",
      "Trainable params: 61,706\n",
      "Non-trainable params: 0\n",
      "_________________________________________________________________\n",
      "19/19 [==============================] - ETA: 0s - loss: 2.1933 - accuracy: 0.2062WARNING:tensorflow:Callbacks method `on_test_batch_end` is slow compared to the batch time (batch time: 0.0000s vs `on_test_batch_end` time: 0.0010s). Check your callbacks.\n",
      "19/19 [==============================] - 0s 16ms/step - loss: 2.1933 - accuracy: 0.2062 - val_loss: 2.0031 - val_accuracy: 0.4115\n",
      "Model: \"sequential\"\n",
      "_________________________________________________________________\n",
      "Layer (type)                 Output Shape              Param #   \n",
      "=================================================================\n",
      "conv2d (Conv2D)              (None, 28, 28, 6)         156       \n",
      "_________________________________________________________________\n",
      "average_pooling2d (AveragePo (None, 14, 14, 6)         0         \n",
      "_________________________________________________________________\n",
      "conv2d_1 (Conv2D)            (None, 10, 10, 16)        2416      \n",
      "_________________________________________________________________\n",
      "average_pooling2d_1 (Average (None, 5, 5, 16)          0         \n",
      "_________________________________________________________________\n",
      "flatten (Flatten)            (None, 400)               0         \n",
      "_________________________________________________________________\n",
      "dense (Dense)                (None, 120)               48120     \n",
      "_________________________________________________________________\n",
      "dense_1 (Dense)              (None, 84)                10164     \n",
      "_________________________________________________________________\n",
      "dense_2 (Dense)              (None, 10)                850       \n",
      "=================================================================\n",
      "Total params: 61,706\n",
      "Trainable params: 61,706\n",
      "Non-trainable params: 0\n",
      "_________________________________________________________________\n"
     ]
    },
    {
     "name": "stdout",
     "output_type": "stream",
     "text": [
      "8/8 [==============================] - 0s 22ms/step - loss: 0.6127 - accuracy: 0.9388 - val_loss: 0.1328 - val_accuracy: 1.0000\n",
      "Model: \"sequential\"\n",
      "_________________________________________________________________\n",
      "Layer (type)                 Output Shape              Param #   \n",
      "=================================================================\n",
      "conv2d (Conv2D)              (None, 28, 28, 6)         156       \n",
      "_________________________________________________________________\n",
      "average_pooling2d (AveragePo (None, 14, 14, 6)         0         \n",
      "_________________________________________________________________\n",
      "conv2d_1 (Conv2D)            (None, 10, 10, 16)        2416      \n",
      "_________________________________________________________________\n",
      "average_pooling2d_1 (Average (None, 5, 5, 16)          0         \n",
      "_________________________________________________________________\n",
      "flatten (Flatten)            (None, 400)               0         \n",
      "_________________________________________________________________\n",
      "dense (Dense)                (None, 120)               48120     \n",
      "_________________________________________________________________\n",
      "dense_1 (Dense)              (None, 84)                10164     \n",
      "_________________________________________________________________\n",
      "dense_2 (Dense)              (None, 10)                850       \n",
      "=================================================================\n",
      "Total params: 61,706\n",
      "Trainable params: 61,706\n",
      "Non-trainable params: 0\n",
      "_________________________________________________________________\n",
      "18/18 [==============================] - 0s 12ms/step - loss: 1.1406 - accuracy: 0.8036 - val_loss: 0.3793 - val_accuracy: 0.9674\n",
      "Model: \"sequential\"\n",
      "_________________________________________________________________\n",
      "Layer (type)                 Output Shape              Param #   \n",
      "=================================================================\n",
      "conv2d (Conv2D)              (None, 28, 28, 6)         156       \n",
      "_________________________________________________________________\n",
      "average_pooling2d (AveragePo (None, 14, 14, 6)         0         \n",
      "_________________________________________________________________\n",
      "conv2d_1 (Conv2D)            (None, 10, 10, 16)        2416      \n",
      "_________________________________________________________________\n",
      "average_pooling2d_1 (Average (None, 5, 5, 16)          0         \n",
      "_________________________________________________________________\n",
      "flatten (Flatten)            (None, 400)               0         \n",
      "_________________________________________________________________\n",
      "dense (Dense)                (None, 120)               48120     \n",
      "_________________________________________________________________\n",
      "dense_1 (Dense)              (None, 84)                10164     \n",
      "_________________________________________________________________\n",
      "dense_2 (Dense)              (None, 10)                850       \n",
      "=================================================================\n",
      "Total params: 61,706\n",
      "Trainable params: 61,706\n",
      "Non-trainable params: 0\n",
      "_________________________________________________________________\n",
      "25/25 [==============================] - 0s 9ms/step - loss: 1.1735 - accuracy: 0.6092 - val_loss: 0.7567 - val_accuracy: 0.8347\n",
      "Model: \"sequential\"\n",
      "_________________________________________________________________\n",
      "Layer (type)                 Output Shape              Param #   \n",
      "=================================================================\n",
      "conv2d (Conv2D)              (None, 28, 28, 6)         156       \n",
      "_________________________________________________________________\n",
      "average_pooling2d (AveragePo (None, 14, 14, 6)         0         \n",
      "_________________________________________________________________\n",
      "conv2d_1 (Conv2D)            (None, 10, 10, 16)        2416      \n",
      "_________________________________________________________________\n",
      "average_pooling2d_1 (Average (None, 5, 5, 16)          0         \n",
      "_________________________________________________________________\n",
      "flatten (Flatten)            (None, 400)               0         \n",
      "_________________________________________________________________\n",
      "dense (Dense)                (None, 120)               48120     \n",
      "_________________________________________________________________\n",
      "dense_1 (Dense)              (None, 84)                10164     \n",
      "_________________________________________________________________\n",
      "dense_2 (Dense)              (None, 10)                850       \n",
      "=================================================================\n",
      "Total params: 61,706\n",
      "Trainable params: 61,706\n",
      "Non-trainable params: 0\n",
      "_________________________________________________________________\n",
      "15/15 [==============================] - 0s 14ms/step - loss: 1.1173 - accuracy: 0.7622 - val_loss: 0.4781 - val_accuracy: 0.9405\n",
      "Model: \"sequential\"\n",
      "_________________________________________________________________\n",
      "Layer (type)                 Output Shape              Param #   \n",
      "=================================================================\n",
      "conv2d (Conv2D)              (None, 28, 28, 6)         156       \n",
      "_________________________________________________________________\n",
      "average_pooling2d (AveragePo (None, 14, 14, 6)         0         \n",
      "_________________________________________________________________\n",
      "conv2d_1 (Conv2D)            (None, 10, 10, 16)        2416      \n",
      "_________________________________________________________________\n",
      "average_pooling2d_1 (Average (None, 5, 5, 16)          0         \n",
      "_________________________________________________________________\n",
      "flatten (Flatten)            (None, 400)               0         \n",
      "_________________________________________________________________\n",
      "dense (Dense)                (None, 120)               48120     \n",
      "_________________________________________________________________\n",
      "dense_1 (Dense)              (None, 84)                10164     \n",
      "_________________________________________________________________\n",
      "dense_2 (Dense)              (None, 10)                850       \n",
      "=================================================================\n",
      "Total params: 61,706\n",
      "Trainable params: 61,706\n",
      "Non-trainable params: 0\n",
      "_________________________________________________________________\n",
      "17/17 [==============================] - 0s 11ms/step - loss: 1.1939 - accuracy: 0.6521 - val_loss: 0.6354 - val_accuracy: 0.7332\n"
     ]
    }
   ],
   "source": [
    "learning_result_list = []\n",
    "for i in range(10):\n",
    "    model = models.Sequential()\n",
    "    model.add(layers.Conv2D(filters=6, kernel_size=(5,5), strides=1, activation='tanh', input_shape=(32, 32, 1)))\n",
    "    model.add(layers.AveragePooling2D(pool_size=2, strides=2))\n",
    "    model.add(layers.Conv2D(filters=16, kernel_size=(5,5), strides=1, activation='tanh'))\n",
    "    model.add(layers.AveragePooling2D(pool_size=2, strides=2))\n",
    "    model.add(layers.Flatten())\n",
    "    model.add(layers.Dense(120, activation='tanh'))\n",
    "    model.add(layers.Dense(84, activation='tanh'))\n",
    "    model.add(layers.Dense(10, activation='softmax'))\n",
    "    model.summary()\n",
    "    x_train, x_test, y_train, y_test = train_test_split(UE[i]['x_train'], UE[i]['y_train'], test_size=0.2, random_state=45)\n",
    "    model.compile(optimizer='SGD', loss='sparse_categorical_crossentropy', metrics=['accuracy'])\n",
    "    learning_result_list.append(model.fit(x_train, y_train, batch_size=100, epochs=1, validation_data=(x_test, y_test)))\n",
    "    tf.keras.backend.clear_session()\n",
    "    "
   ]
  },
  {
   "cell_type": "code",
   "execution_count": 18,
   "id": "buried-check",
   "metadata": {},
   "outputs": [],
   "source": [
    "UE_weights = []\n",
    "\n",
    "for model in learning_result_list:\n",
    "    layer_weights = {}\n",
    "    for x in model.model.layers:\n",
    "        if len(x.get_weights()) > 0:\n",
    "            layer_weights[x.name] = x.get_weights()\n",
    "    UE_weights.append(layer_weights)"
   ]
  },
  {
   "cell_type": "code",
   "execution_count": 19,
   "id": "altered-pound",
   "metadata": {
    "scrolled": false
   },
   "outputs": [
    {
     "name": "stdout",
     "output_type": "stream",
     "text": [
      "Model: \"sequential\"\n",
      "_________________________________________________________________\n",
      "Layer (type)                 Output Shape              Param #   \n",
      "=================================================================\n",
      "conv2d (Conv2D)              (None, 28, 28, 6)         156       \n",
      "_________________________________________________________________\n",
      "average_pooling2d (AveragePo (None, 14, 14, 6)         0         \n",
      "_________________________________________________________________\n",
      "conv2d_1 (Conv2D)            (None, 10, 10, 16)        2416      \n",
      "_________________________________________________________________\n",
      "average_pooling2d_1 (Average (None, 5, 5, 16)          0         \n",
      "_________________________________________________________________\n",
      "flatten (Flatten)            (None, 400)               0         \n",
      "_________________________________________________________________\n",
      "dense (Dense)                (None, 120)               48120     \n",
      "_________________________________________________________________\n",
      "dense_1 (Dense)              (None, 84)                10164     \n",
      "_________________________________________________________________\n",
      "dense_2 (Dense)              (None, 10)                850       \n",
      "=================================================================\n",
      "Total params: 61,706\n",
      "Trainable params: 61,706\n",
      "Non-trainable params: 0\n",
      "_________________________________________________________________\n"
     ]
    }
   ],
   "source": [
    "server_model = models.Sequential()\n",
    "server_model.add(layers.Conv2D(filters=6, kernel_size=(5,5), strides=1, activation='tanh', input_shape=(32, 32, 1)))\n",
    "server_model.add(layers.AveragePooling2D(pool_size=2, strides=2))\n",
    "server_model.add(layers.Conv2D(filters=16, kernel_size=(5,5), strides=1, activation='tanh'))\n",
    "server_model.add(layers.AveragePooling2D(pool_size=2, strides=2))\n",
    "server_model.add(layers.Flatten())\n",
    "server_model.add(layers.Dense(120, activation='tanh'))\n",
    "server_model.add(layers.Dense(84, activation='tanh'))\n",
    "server_model.add(layers.Dense(10, activation='softmax'))\n",
    "server_model.summary()\n",
    "tf.keras.backend.clear_session()"
   ]
  },
  {
   "cell_type": "code",
   "execution_count": 20,
   "id": "interpreted-performer",
   "metadata": {},
   "outputs": [],
   "source": [
    "sum_weights = {}\n",
    "\n",
    "for i in range(len(list(UE_weights[0].keys()))):\n",
    "    weight_shape = [0]\n",
    "    bias_shape = [0]\n",
    "    for dim in UE_weights[0][list(UE_weights[0].keys())[i]][0].shape:\n",
    "        weight_shape.append(dim)\n",
    "    for dim in UE_weights[0][list(UE_weights[0].keys())[i]][1].shape:\n",
    "        bias_shape.append(dim)\n",
    "    sum_weights.update({list(UE_weights[0].keys())[i]: {'weight': np.empty(weight_shape), 'bias':np.empty(bias_shape)}})\n",
    "    \n",
    "    for UE in UE_weights:\n",
    "        sum_weights[list(UE.keys())[i]]['weight'] = np.append(sum_weights[list(UE.keys())[i]]['weight'], [UE[list(UE.keys())[i]][0]], axis=0)\n",
    "        sum_weights[list(UE.keys())[i]]['bias'] = np.append(sum_weights[list(UE.keys())[i]]['bias'], [UE[list(UE.keys())[i]][1]], axis=0)"
   ]
  },
  {
   "cell_type": "code",
   "execution_count": 21,
   "id": "embedded-functionality",
   "metadata": {},
   "outputs": [],
   "source": [
    "# 서버 모델에 가중치 설정하는 코드\n",
    "for layer in sum_weights.keys():\n",
    "    for model_layer in server_model.layers:\n",
    "        if layer == model_layer.name:\n",
    "            model_layer.set_weights([np.mean(sum_weights[layer]['weight'], axis=0), np.mean(sum_weights[layer]['bias'], axis=0)])"
   ]
  },
  {
   "cell_type": "code",
   "execution_count": 28,
   "id": "overhead-permission",
   "metadata": {
    "scrolled": true
   },
   "outputs": [
    {
     "data": {
      "text/plain": [
       "array([[[[[-0.05110564, -0.06142072,  0.06086727, -0.18595475,\n",
       "            0.17926867,  0.05343166]],\n",
       "\n",
       "         [[-0.02588127, -0.13505271, -0.07070263,  0.09883844,\n",
       "            0.12544173,  0.12142465]],\n",
       "\n",
       "         [[-0.15728308,  0.12597577, -0.12426626,  0.00701012,\n",
       "            0.00392081,  0.14120889]],\n",
       "\n",
       "         [[-0.02914414, -0.13723531, -0.01825989,  0.13803758,\n",
       "            0.01040256, -0.17022994]],\n",
       "\n",
       "         [[ 0.15787899, -0.01684004, -0.07763407,  0.03882758,\n",
       "            0.03118889, -0.09870402]]],\n",
       "\n",
       "\n",
       "        [[[-0.08648097,  0.15934885,  0.08348018, -0.09125084,\n",
       "           -0.10960817,  0.02428813]],\n",
       "\n",
       "         [[ 0.15087707, -0.1740476 , -0.04546323, -0.12218171,\n",
       "            0.17082509, -0.05067818]],\n",
       "\n",
       "         [[ 0.19050157,  0.00180531,  0.08209886,  0.01808766,\n",
       "            0.09430954,  0.10842028]],\n",
       "\n",
       "         [[ 0.11832418, -0.18184115, -0.10494084,  0.08683939,\n",
       "           -0.03183493, -0.12507385]],\n",
       "\n",
       "         [[-0.01393608,  0.14251605, -0.13537103, -0.00662524,\n",
       "           -0.20617241, -0.09425946]]],\n",
       "\n",
       "\n",
       "        [[[ 0.00339114, -0.08355135, -0.06013175, -0.08504409,\n",
       "            0.00129097,  0.04180371]],\n",
       "\n",
       "         [[-0.04968993, -0.06613516,  0.08577592, -0.0324158 ,\n",
       "            0.16555467,  0.05403027]],\n",
       "\n",
       "         [[-0.00462448, -0.03129941, -0.15674435, -0.04971613,\n",
       "           -0.07788868, -0.16071221]],\n",
       "\n",
       "         [[ 0.11952402,  0.138382  ,  0.03686662, -0.10187563,\n",
       "            0.14214504,  0.04555213]],\n",
       "\n",
       "         [[ 0.13543834,  0.09203232, -0.10217159,  0.08732243,\n",
       "            0.11812668,  0.02379483]]],\n",
       "\n",
       "\n",
       "        [[[ 0.11038789, -0.13762425, -0.18700005, -0.11336407,\n",
       "           -0.09796519,  0.00729467]],\n",
       "\n",
       "         [[-0.05801348, -0.0114245 ,  0.02353802, -0.04555938,\n",
       "            0.07674636, -0.14317343]],\n",
       "\n",
       "         [[ 0.00360138, -0.05000305,  0.15106241,  0.11023087,\n",
       "           -0.08425624,  0.0761599 ]],\n",
       "\n",
       "         [[-0.14166839, -0.07424059,  0.11604975, -0.00831945,\n",
       "           -0.06482676,  0.06502591]],\n",
       "\n",
       "         [[-0.08810879,  0.01943777,  0.09688179, -0.16232495,\n",
       "           -0.12913972, -0.08773213]]],\n",
       "\n",
       "\n",
       "        [[[-0.07741965, -0.11247856, -0.1297735 ,  0.06255972,\n",
       "            0.06084167,  0.03022782]],\n",
       "\n",
       "         [[-0.09496467, -0.09031437, -0.14449222, -0.0017245 ,\n",
       "            0.15305713,  0.11643279]],\n",
       "\n",
       "         [[-0.06624418,  0.1794174 ,  0.07519913,  0.1164024 ,\n",
       "            0.12349408, -0.09039187]],\n",
       "\n",
       "         [[ 0.14210872,  0.15229195, -0.19312145, -0.05812312,\n",
       "            0.14618514,  0.14461008]],\n",
       "\n",
       "         [[-0.044062  , -0.06192071, -0.1729932 ,  0.0576891 ,\n",
       "           -0.06389071, -0.15572746]]]],\n",
       "\n",
       "\n",
       "\n",
       "       [[[[-0.03547973,  0.05631552, -0.01964641, -0.11581396,\n",
       "            0.07339464, -0.01675494]],\n",
       "\n",
       "         [[-0.04885009,  0.05470551,  0.13925807,  0.10209754,\n",
       "            0.09051547,  0.1188025 ]],\n",
       "\n",
       "         [[ 0.08884865,  0.17847812, -0.13833952, -0.17426354,\n",
       "           -0.17891799, -0.04191772]],\n",
       "\n",
       "         [[-0.08984645, -0.04722537, -0.11905307, -0.11663027,\n",
       "            0.10318986, -0.0273586 ]],\n",
       "\n",
       "         [[ 0.11411804, -0.08155984, -0.00745347,  0.02162515,\n",
       "            0.13807972,  0.10778525]]],\n",
       "\n",
       "\n",
       "        [[[-0.04090915,  0.15591905, -0.19593135, -0.05923736,\n",
       "            0.04944333, -0.10353597]],\n",
       "\n",
       "         [[-0.11194422, -0.0159779 , -0.03422634,  0.1125555 ,\n",
       "           -0.10760797,  0.00184398]],\n",
       "\n",
       "         [[-0.17170185,  0.09072059,  0.11034488, -0.09217748,\n",
       "           -0.12616773,  0.00136568]],\n",
       "\n",
       "         [[ 0.02225114,  0.02127202, -0.05526171,  0.05622109,\n",
       "            0.13126951,  0.15320338]],\n",
       "\n",
       "         [[ 0.03347481, -0.07968586,  0.13209857, -0.05236996,\n",
       "            0.15189992,  0.0686283 ]]],\n",
       "\n",
       "\n",
       "        [[[-0.12827422,  0.15240586,  0.19967562, -0.18360327,\n",
       "           -0.01200072,  0.01179293]],\n",
       "\n",
       "         [[-0.0072782 , -0.12960634,  0.06166241, -0.04110774,\n",
       "            0.11445434, -0.06346203]],\n",
       "\n",
       "         [[ 0.14605644, -0.126285  , -0.11126646, -0.07272936,\n",
       "            0.03858662, -0.09061589]],\n",
       "\n",
       "         [[-0.13899964,  0.08870623, -0.14044856, -0.10346238,\n",
       "            0.01662891,  0.1165469 ]],\n",
       "\n",
       "         [[-0.04400145, -0.1574246 ,  0.0587393 , -0.13662675,\n",
       "            0.07693423,  0.15797743]]],\n",
       "\n",
       "\n",
       "        [[[-0.12153718,  0.01824822,  0.12907322, -0.16232948,\n",
       "            0.14978756, -0.08876142]],\n",
       "\n",
       "         [[ 0.08955088,  0.18545064, -0.00484332, -0.12010551,\n",
       "            0.17203829, -0.03863885]],\n",
       "\n",
       "         [[-0.11678368, -0.09437785,  0.06918684, -0.09578282,\n",
       "            0.07694852, -0.16662979]],\n",
       "\n",
       "         [[ 0.13560566,  0.01476225,  0.06080697,  0.02214438,\n",
       "            0.02042462, -0.030734  ]],\n",
       "\n",
       "         [[ 0.07928512, -0.00422374,  0.16216385,  0.00445448,\n",
       "            0.08146893,  0.17332697]]],\n",
       "\n",
       "\n",
       "        [[[ 0.17978805, -0.02332796, -0.09728041,  0.05295523,\n",
       "           -0.18375458,  0.11708554]],\n",
       "\n",
       "         [[ 0.15281676, -0.15787737,  0.1826022 ,  0.09329884,\n",
       "           -0.02204442, -0.15259339]],\n",
       "\n",
       "         [[-0.14488567,  0.01969162, -0.07596464,  0.17854305,\n",
       "           -0.06317229,  0.01432018]],\n",
       "\n",
       "         [[ 0.08429648,  0.13229762,  0.14784381, -0.03313084,\n",
       "            0.04423621, -0.15604392]],\n",
       "\n",
       "         [[-0.08132016, -0.00966001, -0.17792858, -0.09959649,\n",
       "            0.08045243,  0.06826801]]]],\n",
       "\n",
       "\n",
       "\n",
       "       [[[[-0.10386828, -0.08646633,  0.13907191,  0.03410563,\n",
       "           -0.14000836,  0.07166786]],\n",
       "\n",
       "         [[ 0.15057784, -0.07755528,  0.04561168, -0.11184039,\n",
       "           -0.10265784,  0.19081135]],\n",
       "\n",
       "         [[-0.16909638, -0.17197451, -0.15944293,  0.12141872,\n",
       "           -0.10479954,  0.14518799]],\n",
       "\n",
       "         [[ 0.09387001,  0.01126369,  0.09422184, -0.11861427,\n",
       "            0.07683116,  0.02651329]],\n",
       "\n",
       "         [[-0.05599539,  0.1039238 ,  0.03527361, -0.08821123,\n",
       "            0.13582431,  0.00136509]]],\n",
       "\n",
       "\n",
       "        [[[ 0.10771242,  0.04934281, -0.07550047, -0.14563523,\n",
       "           -0.1023845 , -0.14300694]],\n",
       "\n",
       "         [[-0.10753689,  0.08028363,  0.01694165,  0.1366068 ,\n",
       "            0.02034358,  0.0854075 ]],\n",
       "\n",
       "         [[-0.20261022, -0.02574636, -0.03305769, -0.08944238,\n",
       "           -0.18695781,  0.15759869]],\n",
       "\n",
       "         [[-0.00224897,  0.13337632,  0.05143303, -0.13586789,\n",
       "            0.02364551,  0.05996267]],\n",
       "\n",
       "         [[ 0.11894324,  0.13892758,  0.09573267,  0.02933738,\n",
       "           -0.01479624, -0.18170488]]],\n",
       "\n",
       "\n",
       "        [[[ 0.10665254, -0.05934387, -0.16446088, -0.08127876,\n",
       "           -0.05168116,  0.00102914]],\n",
       "\n",
       "         [[-0.0883531 , -0.04067472,  0.03772996, -0.13815308,\n",
       "           -0.03752065,  0.05389762]],\n",
       "\n",
       "         [[ 0.12922567,  0.03039943,  0.08297198,  0.02359699,\n",
       "           -0.10403784,  0.12485255]],\n",
       "\n",
       "         [[ 0.06464263, -0.11129943,  0.11011167,  0.07919808,\n",
       "            0.03730088, -0.14939275]],\n",
       "\n",
       "         [[-0.02026298,  0.18498197,  0.01801389, -0.08691268,\n",
       "           -0.01116708, -0.11391149]]],\n",
       "\n",
       "\n",
       "        [[[-0.11886045,  0.02394051, -0.09769506, -0.00809028,\n",
       "           -0.16823334, -0.03490714]],\n",
       "\n",
       "         [[-0.00820181,  0.04522038, -0.18674773,  0.00357993,\n",
       "           -0.15073843, -0.08995006]],\n",
       "\n",
       "         [[-0.21583201,  0.13440067,  0.0186093 ,  0.04578574,\n",
       "            0.07046074, -0.17111124]],\n",
       "\n",
       "         [[-0.02132916, -0.11511564,  0.11278754, -0.00548551,\n",
       "            0.14885171, -0.10898118]],\n",
       "\n",
       "         [[ 0.09177259,  0.12353579,  0.03640921, -0.12198044,\n",
       "           -0.05464618,  0.13291511]]],\n",
       "\n",
       "\n",
       "        [[[-0.12791625,  0.01601616, -0.19287065, -0.04229   ,\n",
       "           -0.06275812, -0.0566535 ]],\n",
       "\n",
       "         [[-0.11480038,  0.02200953, -0.10210503, -0.10220717,\n",
       "           -0.11830798,  0.07483372]],\n",
       "\n",
       "         [[ 0.08076362, -0.08902806, -0.03124041,  0.01203028,\n",
       "            0.00105404,  0.00542531]],\n",
       "\n",
       "         [[ 0.15462619,  0.03942765, -0.10519786, -0.12274375,\n",
       "            0.16495398, -0.03389173]],\n",
       "\n",
       "         [[-0.06836867, -0.01202531,  0.01774714,  0.06433171,\n",
       "            0.06935813,  0.03856839]]]],\n",
       "\n",
       "\n",
       "\n",
       "       ...,\n",
       "\n",
       "\n",
       "\n",
       "       [[[[-0.08170366, -0.12624054, -0.18713085,  0.07166705,\n",
       "            0.15108222,  0.00032576]],\n",
       "\n",
       "         [[-0.13184763,  0.11899424, -0.04917745, -0.1285776 ,\n",
       "           -0.07293893,  0.07720722]],\n",
       "\n",
       "         [[ 0.11590291, -0.124849  , -0.00823101, -0.05049505,\n",
       "            0.00186938,  0.13389082]],\n",
       "\n",
       "         [[-0.13256805, -0.02523428, -0.03892934,  0.02125666,\n",
       "           -0.16235995, -0.15339692]],\n",
       "\n",
       "         [[ 0.00277094, -0.01579351, -0.0705955 ,  0.05810748,\n",
       "            0.1855786 , -0.11826324]]],\n",
       "\n",
       "\n",
       "        [[[-0.18453808, -0.0895697 ,  0.07337002,  0.08452011,\n",
       "            0.02068598, -0.10977597]],\n",
       "\n",
       "         [[ 0.03379419, -0.03732337, -0.05447985,  0.18175435,\n",
       "            0.1679963 ,  0.03939605]],\n",
       "\n",
       "         [[-0.14303891,  0.080292  ,  0.14713976, -0.07799254,\n",
       "           -0.0753816 , -0.04383756]],\n",
       "\n",
       "         [[-0.06377038, -0.00149031, -0.03066278,  0.10395221,\n",
       "            0.07778651, -0.08057312]],\n",
       "\n",
       "         [[ 0.14741132, -0.05611527,  0.03720227,  0.1402926 ,\n",
       "            0.14409657,  0.03186545]]],\n",
       "\n",
       "\n",
       "        [[[ 0.04784559, -0.11098857, -0.06686249,  0.04592277,\n",
       "            0.10059749,  0.04912202]],\n",
       "\n",
       "         [[-0.01591374, -0.02103619,  0.07961264, -0.03948626,\n",
       "            0.15712304,  0.16935046]],\n",
       "\n",
       "         [[ 0.07173258, -0.07944139, -0.15217045, -0.09988105,\n",
       "           -0.01935735,  0.0117204 ]],\n",
       "\n",
       "         [[-0.03549784, -0.16469076,  0.04321384, -0.11942534,\n",
       "            0.18285464, -0.08754013]],\n",
       "\n",
       "         [[ 0.07578112,  0.16621071, -0.10874227,  0.06907152,\n",
       "            0.16249587, -0.16896352]]],\n",
       "\n",
       "\n",
       "        [[[ 0.03170245, -0.03005066,  0.04752309,  0.14219378,\n",
       "           -0.1490749 , -0.12738858]],\n",
       "\n",
       "         [[ 0.10548213, -0.04662489,  0.06609932,  0.10449272,\n",
       "           -0.145463  ,  0.16269672]],\n",
       "\n",
       "         [[-0.09587105,  0.05918572, -0.11211566,  0.13624261,\n",
       "            0.01299696,  0.10336906]],\n",
       "\n",
       "         [[-0.04424627, -0.12618308, -0.06381197, -0.04972083,\n",
       "            0.12982069,  0.12419647]],\n",
       "\n",
       "         [[-0.02800024, -0.04166086,  0.12529653,  0.00023138,\n",
       "            0.17387694,  0.04318202]]],\n",
       "\n",
       "\n",
       "        [[[-0.02410331,  0.18621995, -0.19094692, -0.02133868,\n",
       "            0.07364913,  0.17676204]],\n",
       "\n",
       "         [[ 0.18656912,  0.15217504, -0.15602309, -0.14876606,\n",
       "            0.09871038, -0.09096798]],\n",
       "\n",
       "         [[-0.12256598,  0.02729256,  0.10105237,  0.16946861,\n",
       "            0.05342158,  0.05237167]],\n",
       "\n",
       "         [[-0.05523766, -0.11627217, -0.03516004, -0.18617342,\n",
       "            0.05322722, -0.11806987]],\n",
       "\n",
       "         [[-0.0135641 ,  0.15709214,  0.07350473,  0.08762252,\n",
       "            0.0892152 ,  0.14750387]]]],\n",
       "\n",
       "\n",
       "\n",
       "       [[[[-0.03565738, -0.17448524, -0.09593681, -0.00472944,\n",
       "           -0.09908639,  0.19477561]],\n",
       "\n",
       "         [[ 0.1781463 , -0.13304627,  0.06461181, -0.07286345,\n",
       "           -0.13955592,  0.04075422]],\n",
       "\n",
       "         [[ 0.05048676, -0.05381266, -0.06327558, -0.05203517,\n",
       "            0.06040563,  0.06630352]],\n",
       "\n",
       "         [[ 0.02049148, -0.03476027, -0.15109789,  0.1545544 ,\n",
       "           -0.07509644,  0.07561991]],\n",
       "\n",
       "         [[-0.01494606, -0.10409613,  0.02588679, -0.03206551,\n",
       "           -0.1566247 ,  0.09129637]]],\n",
       "\n",
       "\n",
       "        [[[ 0.09858993,  0.19807301,  0.15100525,  0.02064353,\n",
       "           -0.17444879, -0.15900387]],\n",
       "\n",
       "         [[-0.140038  ,  0.03103432,  0.03983619,  0.13520443,\n",
       "            0.15805076,  0.05745482]],\n",
       "\n",
       "         [[-0.07848363,  0.15152876, -0.12563923, -0.12374169,\n",
       "            0.07041306, -0.07500365]],\n",
       "\n",
       "         [[ 0.04804892, -0.00893685, -0.06546385,  0.05279515,\n",
       "            0.1016214 ,  0.06618577]],\n",
       "\n",
       "         [[-0.08252886, -0.04373918,  0.07884707, -0.15972783,\n",
       "            0.10866438,  0.17985272]]],\n",
       "\n",
       "\n",
       "        [[[-0.01018382, -0.09546331,  0.17508629, -0.15510654,\n",
       "           -0.05144455,  0.05023565]],\n",
       "\n",
       "         [[ 0.08461983,  0.00056902,  0.03088492, -0.17338036,\n",
       "           -0.16898644,  0.11434247]],\n",
       "\n",
       "         [[-0.13705637, -0.07414793,  0.09197805, -0.07723858,\n",
       "           -0.05901831, -0.13928841]],\n",
       "\n",
       "         [[ 0.00462872,  0.09557717, -0.07995071,  0.14152704,\n",
       "           -0.0902008 , -0.01570551]],\n",
       "\n",
       "         [[ 0.15039761, -0.12592791,  0.07613228,  0.00607589,\n",
       "           -0.10727984,  0.07494903]]],\n",
       "\n",
       "\n",
       "        [[[ 0.07993903,  0.06568106, -0.03707788, -0.00235353,\n",
       "           -0.01738754,  0.06496655]],\n",
       "\n",
       "         [[ 0.11317928,  0.14692663,  0.14465789, -0.12226611,\n",
       "           -0.13466777,  0.06162861]],\n",
       "\n",
       "         [[-0.12589081,  0.05536783, -0.15516031, -0.06386163,\n",
       "            0.07549812,  0.02057654]],\n",
       "\n",
       "         [[ 0.02178901, -0.00711507, -0.16808462, -0.05194283,\n",
       "           -0.14295179, -0.03912304]],\n",
       "\n",
       "         [[-0.05539149,  0.16154172, -0.05844487, -0.08263586,\n",
       "            0.10357562,  0.00858545]]],\n",
       "\n",
       "\n",
       "        [[[ 0.06043424, -0.00541456, -0.08264159, -0.03828054,\n",
       "           -0.01286966,  0.09463035]],\n",
       "\n",
       "         [[ 0.17940192, -0.05910442,  0.11615961,  0.11401513,\n",
       "            0.1276052 , -0.11101516]],\n",
       "\n",
       "         [[-0.02705717,  0.16610156, -0.07565266,  0.17106766,\n",
       "            0.11746202, -0.1422606 ]],\n",
       "\n",
       "         [[-0.11890072,  0.11779834,  0.07548174, -0.08293252,\n",
       "           -0.09549851,  0.13852641]],\n",
       "\n",
       "         [[ 0.09180786, -0.13154148,  0.15458915, -0.17397277,\n",
       "            0.1341773 , -0.13273598]]]],\n",
       "\n",
       "\n",
       "\n",
       "       [[[[-0.02305107, -0.13881351, -0.12689239,  0.0961928 ,\n",
       "           -0.00406016, -0.17462479]],\n",
       "\n",
       "         [[-0.00149966, -0.07714874,  0.15926567, -0.01899468,\n",
       "            0.1397204 , -0.0447487 ]],\n",
       "\n",
       "         [[-0.04792139,  0.14661156, -0.15500714,  0.14852993,\n",
       "           -0.13356951,  0.09544872]],\n",
       "\n",
       "         [[ 0.0502894 , -0.05652021, -0.06537891,  0.05701168,\n",
       "           -0.01241518, -0.04010557]],\n",
       "\n",
       "         [[-0.01395297, -0.08990336, -0.13752303,  0.12285399,\n",
       "            0.08405538, -0.00350987]]],\n",
       "\n",
       "\n",
       "        [[[-0.10192611, -0.01460989,  0.14420313, -0.05189509,\n",
       "           -0.0173033 ,  0.10423403]],\n",
       "\n",
       "         [[-0.04854744, -0.01499122,  0.03138668, -0.09210872,\n",
       "            0.10257338, -0.16715005]],\n",
       "\n",
       "         [[-0.02662595,  0.00938877,  0.08537084,  0.15153138,\n",
       "            0.12810348,  0.07742367]],\n",
       "\n",
       "         [[ 0.14109142, -0.11329586, -0.07545813, -0.16076387,\n",
       "            0.17792378, -0.01539168]],\n",
       "\n",
       "         [[ 0.11640619, -0.01823976,  0.17010859,  0.13272195,\n",
       "            0.01500254,  0.16026141]]],\n",
       "\n",
       "\n",
       "        [[[ 0.15622909,  0.0036554 , -0.04999136, -0.04271724,\n",
       "            0.17403926, -0.08546101]],\n",
       "\n",
       "         [[ 0.04681362,  0.04945248,  0.15710641, -0.04895043,\n",
       "            0.17957099, -0.1171703 ]],\n",
       "\n",
       "         [[-0.01844991,  0.14584258, -0.02535367,  0.10355561,\n",
       "           -0.13394772, -0.06490426]],\n",
       "\n",
       "         [[-0.13043818,  0.05204345,  0.10027112, -0.1244639 ,\n",
       "            0.00719303,  0.01936242]],\n",
       "\n",
       "         [[ 0.13953121, -0.14854649, -0.11010667, -0.07562842,\n",
       "            0.16099943, -0.17024495]]],\n",
       "\n",
       "\n",
       "        [[[-0.09292249, -0.06003156, -0.12017404, -0.14825882,\n",
       "           -0.16396017, -0.04121587]],\n",
       "\n",
       "         [[ 0.0335548 ,  0.03326997,  0.12154332,  0.19591665,\n",
       "            0.0030573 , -0.15371729]],\n",
       "\n",
       "         [[-0.09953114, -0.06442665,  0.06353295,  0.15689427,\n",
       "           -0.06329042,  0.07268415]],\n",
       "\n",
       "         [[ 0.08939397,  0.16766931, -0.13955781,  0.12359034,\n",
       "            0.06031105,  0.1490318 ]],\n",
       "\n",
       "         [[-0.13302186,  0.07137033,  0.02651216, -0.01162473,\n",
       "            0.04775424, -0.01450192]]],\n",
       "\n",
       "\n",
       "        [[[ 0.12383504,  0.08074934, -0.06631568,  0.16062206,\n",
       "           -0.10648059, -0.03454635]],\n",
       "\n",
       "         [[-0.00451428,  0.03538157,  0.04694179, -0.14242879,\n",
       "           -0.11429514, -0.07663348]],\n",
       "\n",
       "         [[ 0.10045029, -0.07255185, -0.07440142,  0.0519671 ,\n",
       "           -0.03628046,  0.10178945]],\n",
       "\n",
       "         [[ 0.11413011, -0.18554662, -0.12846541,  0.06823151,\n",
       "            0.06659458, -0.07513178]],\n",
       "\n",
       "         [[-0.06956792,  0.01120316,  0.0850864 ,  0.16910136,\n",
       "            0.02576359,  0.01240009]]]]])"
      ]
     },
     "execution_count": 28,
     "metadata": {},
     "output_type": "execute_result"
    }
   ],
   "source": [
    "sum_weights['conv2d']['weight']"
   ]
  },
  {
   "cell_type": "code",
   "execution_count": 29,
   "id": "considered-israeli",
   "metadata": {
    "scrolled": true
   },
   "outputs": [
    {
     "data": {
      "text/plain": [
       "array([[[[-0.0062383 , -0.05343189, -0.00167535, -0.00571097,\n",
       "          -0.03028129,  0.03217216]],\n",
       "\n",
       "        [[ 0.05229367, -0.02100201,  0.05982237, -0.03671519,\n",
       "           0.01124941,  0.05502271]],\n",
       "\n",
       "        [[ 0.02139286, -0.00975353, -0.09665943, -0.05638374,\n",
       "          -0.00510689,  0.0505025 ]],\n",
       "\n",
       "        [[-0.01080129, -0.03827545, -0.00501596,  0.02652984,\n",
       "           0.02353615, -0.04648376]],\n",
       "\n",
       "        [[ 0.03666605, -0.02745217,  0.01224007,  0.04115237,\n",
       "           0.05386236,  0.02208679]]],\n",
       "\n",
       "\n",
       "       [[[-0.07521125,  0.05144828,  0.04897805,  0.01624637,\n",
       "          -0.05115726, -0.0398348 ]],\n",
       "\n",
       "        [[-0.02704584,  0.00266881,  0.02771123,  0.06754555,\n",
       "           0.08812422, -0.01091036]],\n",
       "\n",
       "        [[-0.00243589,  0.02410902,  0.05934345, -0.04159925,\n",
       "          -0.04078006,  0.01804666]],\n",
       "\n",
       "        [[ 0.02877167, -0.00148619, -0.06085865,  0.00955941,\n",
       "           0.02822706, -0.00680793]],\n",
       "\n",
       "        [[ 0.02340798,  0.00580878,  0.02938782,  0.01363299,\n",
       "           0.05183639, -0.01055703]]],\n",
       "\n",
       "\n",
       "       [[[ 0.0385689 , -0.01205797,  0.02625202, -0.04430645,\n",
       "           0.03358929,  0.03181993]],\n",
       "\n",
       "        [[ 0.01266265, -0.05618381,  0.05748211, -0.02359769,\n",
       "           0.05267732,  0.02000359]],\n",
       "\n",
       "        [[ 0.03026182,  0.0355982 , -0.07537244, -0.0275832 ,\n",
       "          -0.03393595, -0.02769568]],\n",
       "\n",
       "        [[-0.01543328,  0.03487256, -0.03250703, -0.04666091,\n",
       "           0.03090482, -0.00185103]],\n",
       "\n",
       "        [[ 0.08488409,  0.02871516, -0.0125889 , -0.01708406,\n",
       "           0.03167671, -0.02375476]]],\n",
       "\n",
       "\n",
       "       [[[ 0.01224871, -0.03261221, -0.01758493, -0.09054369,\n",
       "          -0.02017673, -0.02792632]],\n",
       "\n",
       "        [[ 0.00137125,  0.04441948,  0.00755559,  0.00363302,\n",
       "          -0.03736123, -0.04242113]],\n",
       "\n",
       "        [[-0.06191087, -0.00314966,  0.05576877,  0.04219439,\n",
       "          -0.01813606,  0.0120487 ]],\n",
       "\n",
       "        [[-0.00339222,  0.00622246,  0.00316657,  0.01374198,\n",
       "           0.01927963,  0.01804644]],\n",
       "\n",
       "        [[-0.05989383, -0.01062846,  0.0384207 , -0.01326472,\n",
       "           0.01603824,  0.04866851]]],\n",
       "\n",
       "\n",
       "       [[[-0.01116666,  0.0131633 , -0.07596211,  0.01992434,\n",
       "          -0.03955513,  0.01726625]],\n",
       "\n",
       "        [[ 0.04197309, -0.02413684,  0.01263358, -0.00297649,\n",
       "           0.03261268, -0.02787103]],\n",
       "\n",
       "        [[-0.00132579,  0.00357635, -0.03565926,  0.08222399,\n",
       "          -0.00690952,  0.01779896]],\n",
       "\n",
       "        [[ 0.02517562,  0.03138545, -0.0076106 , -0.03374947,\n",
       "           0.0331006 , -0.01406438]],\n",
       "\n",
       "        [[-0.04666035, -0.02680512,  0.00116803, -0.00370863,\n",
       "           0.03950783,  0.00176608]]]])"
      ]
     },
     "execution_count": 29,
     "metadata": {},
     "output_type": "execute_result"
    }
   ],
   "source": [
    "np.mean(sum_weights['conv2d']['weight'], axis=0)"
   ]
  },
  {
   "cell_type": "code",
   "execution_count": 34,
   "id": "fewer-cosmetic",
   "metadata": {
    "scrolled": true
   },
   "outputs": [
    {
     "data": {
      "text/plain": [
       "array([[[[0.07763093, 0.0873364 , 0.12500291, 0.12145933, 0.12415497,\n",
       "          0.10586494]],\n",
       "\n",
       "        [[0.09924415, 0.10369364, 0.07423096, 0.08946514, 0.11270037,\n",
       "          0.08481141]],\n",
       "\n",
       "        [[0.10789874, 0.13691636, 0.07222785, 0.11038594, 0.09803686,\n",
       "          0.11198092]],\n",
       "\n",
       "        [[0.08311735, 0.08790126, 0.09812221, 0.08824417, 0.09745512,\n",
       "          0.10404319]],\n",
       "\n",
       "        [[0.08134919, 0.07259533, 0.09656527, 0.08285308, 0.11182907,\n",
       "          0.09388165]]],\n",
       "\n",
       "\n",
       "       [[[0.10632712, 0.08845922, 0.12718926, 0.09591065, 0.08633039,\n",
       "          0.08655666]],\n",
       "\n",
       "        [[0.10478567, 0.09747292, 0.06334234, 0.11327095, 0.08349112,\n",
       "          0.09407551]],\n",
       "\n",
       "        [[0.13599763, 0.06535034, 0.08960743, 0.09825864, 0.10929614,\n",
       "          0.10707694]],\n",
       "\n",
       "        [[0.10081588, 0.10994281, 0.08054185, 0.11118995, 0.08625999,\n",
       "          0.08603726]],\n",
       "\n",
       "        [[0.09456209, 0.09741059, 0.1047917 , 0.09021615, 0.10182428,\n",
       "          0.13146644]]],\n",
       "\n",
       "\n",
       "       [[[0.07399828, 0.09356011, 0.11173271, 0.09792323, 0.07277529,\n",
       "          0.08755974]],\n",
       "\n",
       "        [[0.09592607, 0.06393712, 0.06502624, 0.10159044, 0.12803936,\n",
       "          0.09378237]],\n",
       "\n",
       "        [[0.08937629, 0.10268996, 0.09005554, 0.06451545, 0.07590888,\n",
       "          0.10695862]],\n",
       "\n",
       "        [[0.11117569, 0.12752141, 0.10498445, 0.09978458, 0.08393584,\n",
       "          0.1018706 ]],\n",
       "\n",
       "        [[0.07142482, 0.12546964, 0.0905748 , 0.09532211, 0.10858574,\n",
       "          0.11473206]]],\n",
       "\n",
       "\n",
       "       [[[0.10439524, 0.08887618, 0.10841519, 0.09783798, 0.13058547,\n",
       "          0.08500777]],\n",
       "\n",
       "        [[0.09039628, 0.08367378, 0.09540589, 0.1160183 , 0.10884102,\n",
       "          0.10600262]],\n",
       "\n",
       "        [[0.09696234, 0.09682742, 0.10324314, 0.10069826, 0.10253747,\n",
       "          0.1069086 ]],\n",
       "\n",
       "        [[0.07682177, 0.10481486, 0.10293562, 0.0890676 , 0.10427792,\n",
       "          0.09383425]],\n",
       "\n",
       "        [[0.08737049, 0.0983867 , 0.0944321 , 0.10036221, 0.11828288,\n",
       "          0.10028645]]],\n",
       "\n",
       "\n",
       "       [[[0.10758828, 0.085473  , 0.11015816, 0.06266152, 0.08288641,\n",
       "          0.0918894 ]],\n",
       "\n",
       "        [[0.11466865, 0.11534185, 0.11504365, 0.10762144, 0.10604756,\n",
       "          0.10724997]],\n",
       "\n",
       "        [[0.0867779 , 0.1279147 , 0.10324577, 0.08210499, 0.07462974,\n",
       "          0.08341397]],\n",
       "\n",
       "        [[0.10731159, 0.10116838, 0.1221871 , 0.09665013, 0.08644921,\n",
       "          0.10339164]],\n",
       "\n",
       "        [[0.05907494, 0.07947806, 0.11736707, 0.09902183, 0.08314529,\n",
       "          0.12475723]]]])"
      ]
     },
     "execution_count": 34,
     "metadata": {},
     "output_type": "execute_result"
    }
   ],
   "source": [
    "np.std(sum_weights['conv2d']['weight'], axis=0)"
   ]
  },
  {
   "cell_type": "code",
   "execution_count": 36,
   "id": "rapid-worth",
   "metadata": {},
   "outputs": [
    {
     "ename": "TypeError",
     "evalue": "'>' not supported between instances of 'list' and 'int'",
     "output_type": "error",
     "traceback": [
      "\u001b[1;31m---------------------------------------------------------------------------\u001b[0m",
      "\u001b[1;31mTypeError\u001b[0m                                 Traceback (most recent call last)",
      "\u001b[1;32m<ipython-input-36-c843123e1255>\u001b[0m in \u001b[0;36m<module>\u001b[1;34m\u001b[0m\n\u001b[0;32m      1\u001b[0m \u001b[0ma\u001b[0m \u001b[1;33m=\u001b[0m \u001b[1;33m[\u001b[0m\u001b[1;33m[\u001b[0m\u001b[1;36m1\u001b[0m\u001b[1;33m,\u001b[0m\u001b[1;36m2\u001b[0m\u001b[1;33m]\u001b[0m\u001b[1;33m,\u001b[0m\u001b[1;33m[\u001b[0m\u001b[1;36m3\u001b[0m\u001b[1;33m,\u001b[0m\u001b[1;36m4\u001b[0m\u001b[1;33m]\u001b[0m\u001b[1;33m,\u001b[0m\u001b[1;33m[\u001b[0m\u001b[1;36m5\u001b[0m\u001b[1;33m,\u001b[0m \u001b[1;36m6\u001b[0m\u001b[1;33m]\u001b[0m\u001b[1;33m]\u001b[0m\u001b[1;33m\u001b[0m\u001b[1;33m\u001b[0m\u001b[0m\n\u001b[0;32m      2\u001b[0m \u001b[0mb\u001b[0m\u001b[1;33m=\u001b[0m \u001b[1;33m[\u001b[0m\u001b[1;36m1\u001b[0m\u001b[1;33m,\u001b[0m\u001b[1;36m2\u001b[0m\u001b[1;33m,\u001b[0m\u001b[1;36m3\u001b[0m\u001b[1;33m,\u001b[0m\u001b[1;36m4\u001b[0m\u001b[1;33m,\u001b[0m\u001b[1;36m5\u001b[0m\u001b[1;33m,\u001b[0m\u001b[1;36m6\u001b[0m\u001b[1;33m]\u001b[0m\u001b[1;33m\u001b[0m\u001b[1;33m\u001b[0m\u001b[0m\n\u001b[1;32m----> 3\u001b[1;33m \u001b[0mnp\u001b[0m\u001b[1;33m.\u001b[0m\u001b[0mwhere\u001b[0m\u001b[1;33m(\u001b[0m \u001b[0mb\u001b[0m\u001b[1;33m>\u001b[0m \u001b[1;36m0\u001b[0m\u001b[1;33m,\u001b[0m \u001b[1;36m3\u001b[0m\u001b[1;33m,\u001b[0m \u001b[1;36m2\u001b[0m\u001b[1;33m)\u001b[0m\u001b[1;33m\u001b[0m\u001b[1;33m\u001b[0m\u001b[0m\n\u001b[0m",
      "\u001b[1;31mTypeError\u001b[0m: '>' not supported between instances of 'list' and 'int'"
     ]
    }
   ],
   "source": [
    "a = [[1,2],[3,4],[5, 6]]\n",
    "b= [1,2,3,4,5,6]\n",
    "np.where( b > 0, 3, 2) "
   ]
  },
  {
   "cell_type": "code",
   "execution_count": 22,
   "id": "political-cartoon",
   "metadata": {},
   "outputs": [
    {
     "name": "stdout",
     "output_type": "stream",
     "text": [
      "236/236 [==============================] - 0s 1ms/step - loss: 2.3024 - accuracy: 0.1269\n"
     ]
    }
   ],
   "source": [
    "server_model.compile(optimizer='SGD', loss='sparse_categorical_crossentropy', metrics=['accuracy'])\n",
    "result = server_model.evaluate(x=x_eval_dataset, y=y_eval_dataset, batch_size=128)"
   ]
  },
  {
   "cell_type": "code",
   "execution_count": 23,
   "id": "powered-horse",
   "metadata": {},
   "outputs": [
    {
     "name": "stdout",
     "output_type": "stream",
     "text": [
      "test loss, test acc: [2.3023736476898193, 0.12688250839710236]\n"
     ]
    }
   ],
   "source": [
    "print('test loss, test acc:', result)"
   ]
  },
  {
   "cell_type": "code",
   "execution_count": 24,
   "id": "prompt-logging",
   "metadata": {},
   "outputs": [
    {
     "name": "stdout",
     "output_type": "stream",
     "text": [
      "true: 4\n",
      "prediction: 2\n"
     ]
    },
    {
     "data": {
      "image/png": "[encoded data removed]",
      "text/plain": [
       "<Figure size 432x288 with 1 Axes>"
      ]
     },
     "metadata": {
      "needs_background": "light"
     },
     "output_type": "display_data"
    }
   ],
   "source": [
    "plt.imshow(x_eval_dataset[30])\n",
    "print('true:',y_eval_dataset[30])\n",
    "print('prediction:',np.argmax(server_model.predict(np.expand_dims(x_eval_dataset[1], axis=0))))"
   ]
  }
 ],
 "metadata": {
  "kernelspec": {
   "display_name": "tensor",
   "language": "python",
   "name": "tensor"
  },
  "language_info": {
   "codemirror_mode": {
    "name": "ipython",
    "version": 3
   },
   "file_extension": ".py",
   "mimetype": "text/x-python",
   "name": "python",
   "nbconvert_exporter": "python",
   "pygments_lexer": "ipython3",
   "version": "3.8.8"
  }
 },
 "nbformat": 4,
 "nbformat_minor": 5
}
