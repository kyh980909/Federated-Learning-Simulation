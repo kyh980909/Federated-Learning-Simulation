{
 "cells": [
  {
   "cell_type": "code",
   "execution_count": 61,
   "id": "likely-granny",
   "metadata": {},
   "outputs": [],
   "source": [
    "import tensorflow as tf\n",
    "import numpy as np"
   ]
  },
  {
   "cell_type": "code",
   "execution_count": 86,
   "id": "imperial-aberdeen",
   "metadata": {},
   "outputs": [],
   "source": [
    "W1 = tf.Variable(tf.random.normal((784, 256)))"
   ]
  },
  {
   "cell_type": "code",
   "execution_count": 87,
   "id": "bizarre-auction",
   "metadata": {},
   "outputs": [
    {
     "data": {
      "text/plain": [
       "<tf.Variable 'Variable:0' shape=(784, 256) dtype=float32, numpy=\n",
       "array([[-0.8128273 , -0.1361063 , -0.524129  , ...,  2.0031621 ,\n",
       "        -1.1187887 ,  1.3489913 ],\n",
       "       [-0.30432272, -0.76094353, -0.5288694 , ...,  0.34653118,\n",
       "         0.21449327,  0.9317848 ],\n",
       "       [ 1.1033    , -1.2686377 ,  0.19305846, ..., -0.8246734 ,\n",
       "         1.4436202 ,  0.7827481 ],\n",
       "       ...,\n",
       "       [-0.44335592, -0.5334865 ,  1.364975  , ..., -0.6872628 ,\n",
       "         0.5883051 , -1.9806026 ],\n",
       "       [ 0.5324946 , -0.64793944,  0.18297642, ..., -1.398661  ,\n",
       "        -0.14301854,  0.17709656],\n",
       "       [-1.1110455 ,  0.45780078, -0.6458052 , ...,  0.43161556,\n",
       "        -0.51334876,  0.8818705 ]], dtype=float32)>"
      ]
     },
     "execution_count": 87,
     "metadata": {},
     "output_type": "execute_result"
    }
   ],
   "source": [
    "W1"
   ]
  },
  {
   "cell_type": "code",
   "execution_count": 90,
   "id": "clinical-vehicle",
   "metadata": {},
   "outputs": [
    {
     "ename": "AttributeError",
     "evalue": "module 'tensorflow' has no attribute 'contrib'",
     "output_type": "error",
     "traceback": [
      "\u001b[1;31m---------------------------------------------------------------------------\u001b[0m",
      "\u001b[1;31mAttributeError\u001b[0m                            Traceback (most recent call last)",
      "\u001b[1;32m<ipython-input-90-d96654d12617>\u001b[0m in \u001b[0;36m<module>\u001b[1;34m\u001b[0m\n\u001b[0;32m      1\u001b[0m W2 = tf.Variable(\"W1\", shape=[784, 256],\n\u001b[1;32m----> 2\u001b[1;33m                     initializer=tf.contrib.layers.xavier_initializer())\n\u001b[0m",
      "\u001b[1;31mAttributeError\u001b[0m: module 'tensorflow' has no attribute 'contrib'"
     ]
    }
   ],
   "source": [
    "W2 = tf.Variable(\"W1\", shape=[784, 256],\n",
    "                    initializer=tf.contrib.layers.xavier_initializer())"
   ]
  },
  {
   "cell_type": "code",
   "execution_count": null,
   "id": "legitimate-documentary",
   "metadata": {},
   "outputs": [],
   "source": [
    "tf.con"
   ]
  }
 ],
 "metadata": {
  "kernelspec": {
   "display_name": "tensor",
   "language": "python",
   "name": "tensor"
  },
  "language_info": {
   "codemirror_mode": {
    "name": "ipython",
    "version": 3
   },
   "file_extension": ".py",
   "mimetype": "text/x-python",
   "name": "python",
   "nbconvert_exporter": "python",
   "pygments_lexer": "ipython3",
   "version": "3.8.8"
  }
 },
 "nbformat": 4,
 "nbformat_minor": 5
}
