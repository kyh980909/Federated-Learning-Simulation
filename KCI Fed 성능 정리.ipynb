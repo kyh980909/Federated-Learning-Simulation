{
 "cells": [
  {
   "cell_type": "code",
   "execution_count": 20,
   "id": "dynamic-shape",
   "metadata": {},
   "outputs": [],
   "source": [
    "import os\n",
    "import math\n",
    "import wandb\n",
    "from sklearn.model_selection import train_test_split\n",
    "from sklearn.metrics import classification_report, confusion_matrix\n",
    "import random\n",
    "import numpy as np\n",
    "from tensorflow.keras import datasets, layers, models\n",
    "import tensorflow as tf\n",
    "import pandas as pd\n",
    "from collections import OrderedDict\n",
    "tf.compat.v1.logging.set_verbosity(tf.compat.v1.logging.ERROR)"
   ]
  },
  {
   "cell_type": "code",
   "execution_count": 2,
   "id": "exciting-indie",
   "metadata": {},
   "outputs": [
    {
     "name": "stdout",
     "output_type": "stream",
     "text": [
      "285083\n",
      "seed : 235511\n",
      "27374 53365\n",
      "16887 32253\n",
      "19870 40969\n",
      "1416 16156\n",
      "31737 42098\n",
      "7527 36129\n",
      "7715 38099\n",
      "48725 58798\n",
      "40956 52047\n",
      "8849 36647\n",
      "48298 58613\n",
      "13829 51903\n",
      "4913 55081\n",
      "26748 41427\n",
      "45905 56373\n",
      "2109 23395\n",
      "21016 39269\n",
      "23367 58765\n",
      "47527 58837\n",
      "6145 43106\n"
     ]
    }
   ],
   "source": [
    "(x_train, y_train), (x_test, y_test) = datasets.mnist.load_data()\n",
    "\n",
    "x_train = x_train.reshape(60000, 28, 28, 1) / 255\n",
    "x_test = x_test.reshape(10000, 28, 28, 1) / 255\n",
    "x_train = np.pad(x_train, ((0, 0), (2, 2), (2, 2), (0, 0)), 'constant')\n",
    "x_test = np.pad(x_test, ((0, 0), (2, 2), (2, 2), (0, 0)), 'constant')\n",
    "idx = np.argsort(y_test)\n",
    "x_train_sorted = x_test[idx]\n",
    "y_train_sorted = y_test[idx]\n",
    "\n",
    "UE_NUM = 20\n",
    "\n",
    "UE = []\n",
    "for _ in range(UE_NUM):\n",
    "    UE.append({\"x_train\": [], \"y_train\": []})\n",
    "\n",
    "random.seed(45)\n",
    "seed = random.randint(1,1000000)\n",
    "print(seed)\n",
    "print(f'seed : 235511')\n",
    "tf.random.set_seed(235511) # 100 좋은거, 12: 5 클러스터, 403092, 235511, 130670 : 6 클러스터, 192150 : 20\n",
    "\n",
    "total = 0\n",
    "\n",
    "x_eval_dataset = x_test.copy()\n",
    "y_eval_dataset = y_test.copy()\n",
    "\n",
    "data_info = []\n",
    "\n",
    "for i in range(UE_NUM):\n",
    "    random_start = random.randint(1,50000)\n",
    "    #     data_num = random.randint(5000, 30000)\n",
    "    data_num = random.randint(10000, 60000-random_start)\n",
    "    print(random_start, random_start+data_num)\n",
    "    data_info.append([random_start, random_start+data_num, random_start+data_num-random_start])\n",
    "    UE[i]['x_train'] = x_train[random_start:random_start+data_num]\n",
    "    UE[i]['y_train'] = y_train[random_start:random_start+data_num]\n",
    "\n",
    "x_train, x_test, y_train, y_test = [], [], [], []\n",
    "for i in range(UE_NUM):\n",
    "    x_train_temp, x_test_temp, y_train_temp, y_test_temp = train_test_split(\n",
    "        UE[i]['x_train'], UE[i]['y_train'], test_size=0.2, random_state=45)\n",
    "    x_train.append(x_train_temp)\n",
    "    x_test.append(x_test_temp)\n",
    "    y_train.append(y_train_temp)\n",
    "    y_test.append(y_test_temp)"
   ]
  },
  {
   "cell_type": "markdown",
   "id": "compound-doctrine",
   "metadata": {},
   "source": [
    "# 1. 클러스터 성능"
   ]
  },
  {
   "cell_type": "code",
   "execution_count": 68,
   "id": "blessed-istanbul",
   "metadata": {},
   "outputs": [],
   "source": [
    "save_path = f'0930_simulation_result/2'\n",
    "cluster_f1_score_list = list()\n",
    "\n",
    "for cluster_num in range(6):\n",
    "    model = tf.keras.models.load_model(\n",
    "                            f'{save_path}/cluster{cluster_num}')\n",
    "\n",
    "    predict = np.argmax(model.predict(x_eval_dataset), axis=1)\n",
    "    target_names = ['0', '1', '2', '3', '4', '5', '6' ,'7' ,'8','9']\n",
    "    labels = [x for x in range(10)]\n",
    "    result = classification_report(y_eval_dataset, predict, labels=labels, output_dict=True)\n",
    "    f1_score = list()\n",
    "    for x in target_names:\n",
    "        f1_score.append(result[x]['f1-score'])\n",
    "\n",
    "    cluster_f1_score_list.append(sum(f1_score)/len(target_names))\n",
    "    tf.keras.backend.clear_session()"
   ]
  },
  {
   "cell_type": "code",
   "execution_count": 70,
   "id": "irish-characterization",
   "metadata": {},
   "outputs": [
    {
     "data": {
      "text/plain": [
       "0.962261273681097"
      ]
     },
     "execution_count": 70,
     "metadata": {},
     "output_type": "execute_result"
    }
   ],
   "source": [
    "sum(cluster_f1_score_list)/6"
   ]
  },
  {
   "cell_type": "markdown",
   "id": "gentle-client",
   "metadata": {},
   "source": [
    "# 2. FedAvg 성능"
   ]
  },
  {
   "cell_type": "code",
   "execution_count": 71,
   "id": "offshore-democrat",
   "metadata": {},
   "outputs": [
    {
     "data": {
      "text/plain": [
       "0.9711787598424241"
      ]
     },
     "execution_count": 71,
     "metadata": {},
     "output_type": "execute_result"
    }
   ],
   "source": [
    "save_path = f'fl_model_0930_last'\n",
    "model = tf.keras.models.load_model(\n",
    "                        f'{save_path}')\n",
    "\n",
    "predict = np.argmax(model.predict(x_eval_dataset), axis=1)\n",
    "target_names = ['0', '1', '2', '3', '4', '5', '6' ,'7' ,'8','9']\n",
    "labels = [x for x in range(10)]\n",
    "result = classification_report(y_eval_dataset, predict, labels=labels, output_dict=True)\n",
    "f1_score = list()\n",
    "for x in target_names:\n",
    "    f1_score.append(result[x]['f1-score'])\n",
    "    \n",
    "tf.keras.backend.clear_session()\n",
    "    \n",
    "sum(f1_score)/10"
   ]
  },
  {
   "cell_type": "code",
   "execution_count": null,
   "id": "comic-electron",
   "metadata": {},
   "outputs": [],
   "source": []
  }
 ],
 "metadata": {
  "kernelspec": {
   "display_name": "tensor",
   "language": "python",
   "name": "tensor"
  },
  "language_info": {
   "codemirror_mode": {
    "name": "ipython",
    "version": 3
   },
   "file_extension": ".py",
   "mimetype": "text/x-python",
   "name": "python",
   "nbconvert_exporter": "python",
   "pygments_lexer": "ipython3",
   "version": "3.8.8"
  }
 },
 "nbformat": 4,
 "nbformat_minor": 5
}
